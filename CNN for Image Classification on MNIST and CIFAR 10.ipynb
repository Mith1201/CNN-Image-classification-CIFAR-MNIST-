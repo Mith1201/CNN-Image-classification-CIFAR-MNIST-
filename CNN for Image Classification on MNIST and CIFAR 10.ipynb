{
    "cells": [
        {
            "cell_type": "markdown",
            "metadata": {},
            "source": "# CNN  for Image Classification on MNIST and CIFAR Dataset"
        },
        {
            "cell_type": "code",
            "execution_count": 43,
            "metadata": {},
            "outputs": [],
            "source": "import pandas as pd\nimport matplotlib.pyplot as plt\nimport numpy as np"
        },
        {
            "cell_type": "code",
            "execution_count": 2,
            "metadata": {},
            "outputs": [],
            "source": "from tensorflow.keras.datasets import mnist"
        },
        {
            "cell_type": "code",
            "execution_count": 4,
            "metadata": {},
            "outputs": [
                {
                    "name": "stdout",
                    "output_type": "stream",
                    "text": "Downloading data from https://storage.googleapis.com/tensorflow/tf-keras-datasets/mnist.npz\n11493376/11490434 [==============================] - 0s 0us/step\n11501568/11490434 [==============================] - 0s 0us/step\n"
                }
            ],
            "source": "(X_train,y_train),(X_test,y_test)=mnist.load_data()"
        },
        {
            "cell_type": "code",
            "execution_count": 6,
            "metadata": {},
            "outputs": [
                {
                    "data": {
                        "text/plain": "(60000, 28, 28)"
                    },
                    "execution_count": 6,
                    "metadata": {},
                    "output_type": "execute_result"
                }
            ],
            "source": "X_train.shape"
        },
        {
            "cell_type": "code",
            "execution_count": 8,
            "metadata": {},
            "outputs": [
                {
                    "data": {
                        "text/plain": "<matplotlib.image.AxesImage at 0x7fc975961f70>"
                    },
                    "execution_count": 8,
                    "metadata": {},
                    "output_type": "execute_result"
                },
                {
                    "data": {
                        "image/png": "[encoded data removed]",
                        "text/plain": "<Figure size 432x288 with 1 Axes>"
                    },
                    "metadata": {
                        "needs_background": "light"
                    },
                    "output_type": "display_data"
                }
            ],
            "source": "plt.imshow(X_train[77])"
        },
        {
            "cell_type": "code",
            "execution_count": 13,
            "metadata": {},
            "outputs": [
                {
                    "data": {
                        "text/plain": "(60000,)"
                    },
                    "execution_count": 13,
                    "metadata": {},
                    "output_type": "execute_result"
                }
            ],
            "source": "y_train.shape"
        },
        {
            "cell_type": "code",
            "execution_count": 14,
            "metadata": {},
            "outputs": [],
            "source": "from tensorflow.keras.utils import to_categorical"
        },
        {
            "cell_type": "code",
            "execution_count": 15,
            "metadata": {},
            "outputs": [],
            "source": "y_example=to_categorical(y_train)"
        },
        {
            "cell_type": "code",
            "execution_count": 16,
            "metadata": {},
            "outputs": [
                {
                    "data": {
                        "text/plain": "(60000, 10)"
                    },
                    "execution_count": 16,
                    "metadata": {},
                    "output_type": "execute_result"
                }
            ],
            "source": "y_example.shape"
        },
        {
            "cell_type": "code",
            "execution_count": 17,
            "metadata": {},
            "outputs": [],
            "source": "y_cat_test=to_categorical(y_test,num_classes=10)"
        },
        {
            "cell_type": "code",
            "execution_count": 18,
            "metadata": {},
            "outputs": [],
            "source": "y_cat_train=to_categorical(y_train,num_classes=10)"
        },
        {
            "cell_type": "code",
            "execution_count": 19,
            "metadata": {},
            "outputs": [],
            "source": "#normalize the data"
        },
        {
            "cell_type": "code",
            "execution_count": 23,
            "metadata": {},
            "outputs": [],
            "source": "#X_train=X_train/255\n#X_test=X_test/255"
        },
        {
            "cell_type": "code",
            "execution_count": 24,
            "metadata": {},
            "outputs": [],
            "source": "X_train=X_train.reshape(60000,28,28,1)"
        },
        {
            "cell_type": "code",
            "execution_count": 25,
            "metadata": {},
            "outputs": [],
            "source": "X_test=X_test.reshape(10000,28,28,1)"
        },
        {
            "cell_type": "code",
            "execution_count": 26,
            "metadata": {},
            "outputs": [],
            "source": "#create model and train"
        },
        {
            "cell_type": "code",
            "execution_count": 27,
            "metadata": {},
            "outputs": [],
            "source": "from tensorflow.keras.models import Sequential"
        },
        {
            "cell_type": "code",
            "execution_count": 28,
            "metadata": {},
            "outputs": [],
            "source": "from tensorflow.keras.layers import Dense,Conv2D,MaxPool2D,Flatten"
        },
        {
            "cell_type": "code",
            "execution_count": 29,
            "metadata": {},
            "outputs": [],
            "source": "model=Sequential()\n"
        },
        {
            "cell_type": "code",
            "execution_count": 31,
            "metadata": {},
            "outputs": [],
            "source": "model.add(Conv2D(filters=32,kernel_size=(4,4),strides=(1, 1),padding='valid',input_shape=(28,28,1),activation='relu'))\nmodel.add(MaxPool2D(pool_size=(2,2)))\n\nmodel.add(Flatten())\n\nmodel.add(Dense(128,activation='relu'))\n\n#output layer\nmodel.add(Dense(10,activation='softmax'))\n\n#compile\nmodel.compile(loss='categorical_crossentropy',optimizer='adam',metrics=['accuracy'])"
        },
        {
            "cell_type": "code",
            "execution_count": 35,
            "metadata": {},
            "outputs": [],
            "source": "from tensorflow.keras.callbacks import EarlyStopping\n\nearly_stop=EarlyStopping(monitor='val_loss',patience=1)"
        },
        {
            "cell_type": "code",
            "execution_count": 36,
            "metadata": {},
            "outputs": [
                {
                    "name": "stdout",
                    "output_type": "stream",
                    "text": "Epoch 1/10\n1875/1875 [==============================] - 88s 47ms/step - loss: 0.0349 - accuracy: 0.9888 - val_loss: 0.0386 - val_accuracy: 0.9873\nEpoch 2/10\n1875/1875 [==============================] - 87s 47ms/step - loss: 0.0235 - accuracy: 0.9930 - val_loss: 0.0394 - val_accuracy: 0.9882\n"
                },
                {
                    "data": {
                        "text/plain": "<keras.callbacks.History at 0x7fc92c0c3d60>"
                    },
                    "execution_count": 36,
                    "metadata": {},
                    "output_type": "execute_result"
                }
            ],
            "source": "model.fit(X_train,y_cat_train,validation_data=(X_test,y_cat_test),epochs=10,callbacks=[early_stop])"
        },
        {
            "cell_type": "code",
            "execution_count": 37,
            "metadata": {},
            "outputs": [
                {
                    "data": {
                        "text/html": "<div>\n<style scoped>\n    .dataframe tbody tr th:only-of-type {\n        vertical-align: middle;\n    }\n\n    .dataframe tbody tr th {\n        vertical-align: top;\n    }\n\n    .dataframe thead th {\n        text-align: right;\n    }\n</style>\n<table border=\"1\" class=\"dataframe\">\n  <thead>\n    <tr style=\"text-align: right;\">\n      <th></th>\n      <th>loss</th>\n      <th>accuracy</th>\n      <th>val_loss</th>\n      <th>val_accuracy</th>\n    </tr>\n  </thead>\n  <tbody>\n    <tr>\n      <th>0</th>\n      <td>0.034939</td>\n      <td>0.988767</td>\n      <td>0.038596</td>\n      <td>0.9873</td>\n    </tr>\n    <tr>\n      <th>1</th>\n      <td>0.023476</td>\n      <td>0.993050</td>\n      <td>0.039359</td>\n      <td>0.9882</td>\n    </tr>\n  </tbody>\n</table>\n</div>",
                        "text/plain": "       loss  accuracy  val_loss  val_accuracy\n0  0.034939  0.988767  0.038596        0.9873\n1  0.023476  0.993050  0.039359        0.9882"
                    },
                    "execution_count": 37,
                    "metadata": {},
                    "output_type": "execute_result"
                }
            ],
            "source": "metrics=pd.DataFrame(model.history.history)\nmetrics"
        },
        {
            "cell_type": "code",
            "execution_count": 39,
            "metadata": {},
            "outputs": [
                {
                    "data": {
                        "text/plain": "<AxesSubplot:>"
                    },
                    "execution_count": 39,
                    "metadata": {},
                    "output_type": "execute_result"
                },
                {
                    "data": {
                        "image/png": "[encoded data removed]",
                        "text/plain": "<Figure size 432x288 with 1 Axes>"
                    },
                    "metadata": {
                        "needs_background": "light"
                    },
                    "output_type": "display_data"
                }
            ],
            "source": "metrics[['accuracy','val_accuracy']].plot()"
        },
        {
            "cell_type": "code",
            "execution_count": 40,
            "metadata": {},
            "outputs": [],
            "source": "from sklearn.metrics import classification_report,confusion_matrix"
        },
        {
            "cell_type": "code",
            "execution_count": 63,
            "metadata": {},
            "outputs": [],
            "source": "predictions = (model.predict(X_test) > 0.5).astype(\"int32\")"
        },
        {
            "cell_type": "code",
            "execution_count": 64,
            "metadata": {},
            "outputs": [
                {
                    "name": "stdout",
                    "output_type": "stream",
                    "text": "              precision    recall  f1-score   support\n\n           0       0.99      0.99      0.99       980\n           1       1.00      1.00      1.00      1135\n           2       0.98      0.99      0.99      1032\n           3       0.98      0.99      0.99      1010\n           4       0.99      1.00      0.99       982\n           5       1.00      0.97      0.98       892\n           6       1.00      0.99      0.99       958\n           7       0.98      0.99      0.99      1028\n           8       0.98      0.99      0.98       974\n           9       0.99      0.98      0.99      1009\n\n   micro avg       0.99      0.99      0.99     10000\n   macro avg       0.99      0.99      0.99     10000\nweighted avg       0.99      0.99      0.99     10000\n samples avg       0.99      0.99      0.99     10000\n\n"
                },
                {
                    "name": "stderr",
                    "output_type": "stream",
                    "text": "/opt/conda/envs/Python-3.9/lib/python3.9/site-packages/sklearn/metrics/_classification.py:1318: UndefinedMetricWarning: Precision and F-score are ill-defined and being set to 0.0 in samples with no predicted labels. Use `zero_division` parameter to control this behavior.\n  _warn_prf(average, modifier, msg_start, len(result))\n"
                }
            ],
            "source": "print(classification_report(y_cat_test,predictions))\n"
        },
        {
            "cell_type": "code",
            "execution_count": 65,
            "metadata": {},
            "outputs": [
                {
                    "data": {
                        "text/plain": "<matplotlib.image.AxesImage at 0x7fc976c92400>"
                    },
                    "execution_count": 65,
                    "metadata": {},
                    "output_type": "execute_result"
                },
                {
                    "data": {
                        "image/png": "[encoded data removed]",
                        "text/plain": "<Figure size 432x288 with 1 Axes>"
                    },
                    "metadata": {
                        "needs_background": "light"
                    },
                    "output_type": "display_data"
                }
            ],
            "source": "plt.imshow(X_test[77].reshape(28,28))"
        },
        {
            "cell_type": "code",
            "execution_count": 66,
            "metadata": {},
            "outputs": [],
            "source": "my_num=X_test[77]"
        },
        {
            "cell_type": "code",
            "execution_count": 67,
            "metadata": {},
            "outputs": [
                {
                    "data": {
                        "text/plain": "array([[False, False,  True, False, False, False, False, False, False,\n        False]])"
                    },
                    "execution_count": 67,
                    "metadata": {},
                    "output_type": "execute_result"
                }
            ],
            "source": "(model.predict(my_num.reshape(1,28,28,1)) > 0.5)"
        },
        {
            "cell_type": "markdown",
            "metadata": {},
            "source": "# CIFAR10 Dataset"
        },
        {
            "cell_type": "code",
            "execution_count": 18,
            "metadata": {},
            "outputs": [],
            "source": "from tensorflow.keras.datasets import cifar10"
        },
        {
            "cell_type": "code",
            "execution_count": 19,
            "metadata": {},
            "outputs": [],
            "source": "(X_train,y_train),(X_test,y_test)=cifar10.load_data()"
        },
        {
            "cell_type": "code",
            "execution_count": 20,
            "metadata": {},
            "outputs": [
                {
                    "data": {
                        "text/plain": "(50000, 32, 32, 3)"
                    },
                    "execution_count": 20,
                    "metadata": {},
                    "output_type": "execute_result"
                }
            ],
            "source": "X_train.shape"
        },
        {
            "cell_type": "code",
            "execution_count": 21,
            "metadata": {},
            "outputs": [
                {
                    "data": {
                        "text/plain": "(10000, 32, 32, 3)"
                    },
                    "execution_count": 21,
                    "metadata": {},
                    "output_type": "execute_result"
                }
            ],
            "source": "X_test.shape"
        },
        {
            "cell_type": "code",
            "execution_count": 22,
            "metadata": {},
            "outputs": [
                {
                    "data": {
                        "text/plain": "(50000, 1)"
                    },
                    "execution_count": 22,
                    "metadata": {},
                    "output_type": "execute_result"
                }
            ],
            "source": "y_train.shape"
        },
        {
            "cell_type": "code",
            "execution_count": 23,
            "metadata": {},
            "outputs": [
                {
                    "data": {
                        "text/plain": "(10000, 1)"
                    },
                    "execution_count": 23,
                    "metadata": {},
                    "output_type": "execute_result"
                }
            ],
            "source": "y_test.shape"
        },
        {
            "cell_type": "code",
            "execution_count": 24,
            "metadata": {},
            "outputs": [
                {
                    "data": {
                        "text/plain": "255"
                    },
                    "execution_count": 24,
                    "metadata": {},
                    "output_type": "execute_result"
                }
            ],
            "source": "X_train[0].max()"
        },
        {
            "cell_type": "code",
            "execution_count": 25,
            "metadata": {},
            "outputs": [],
            "source": "#normalize\nX_train=X_train/255\nX_test=X_test/255"
        },
        {
            "cell_type": "code",
            "execution_count": 32,
            "metadata": {},
            "outputs": [],
            "source": "#convert labels to categorical\nfrom tensorflow.keras.utils import to_categorical\ny_cat_train=to_categorical(y_train,num_classes=10)\ny_cat_test=to_categorical(y_test,10)"
        },
        {
            "cell_type": "code",
            "execution_count": 27,
            "metadata": {},
            "outputs": [],
            "source": "from tensorflow.keras.models import Sequential\nfrom tensorflow.keras.layers import Dense,Conv2D,MaxPool2D,Flatten"
        },
        {
            "cell_type": "code",
            "execution_count": 28,
            "metadata": {},
            "outputs": [],
            "source": "model=Sequential()"
        },
        {
            "cell_type": "code",
            "execution_count": 29,
            "metadata": {},
            "outputs": [],
            "source": "model.add(Conv2D(filters=32,kernel_size=(4,4),input_shape=(32,32,3),activation='relu'))\nmodel.add(MaxPool2D(pool_size=(2,2)))\nmodel.add(Conv2D(filters=32,kernel_size=(4,4),input_shape=(32,32,3),activation='relu'))\nmodel.add(MaxPool2D(pool_size=(2,2)))\n\nmodel.add(Flatten())\n\nmodel.add(Dense(256,activation='relu'))\n#output layer\nmodel.add(Dense(10,activation='softmax'))\n\n#compile\nmodel.compile(loss='categorical_crossentropy',optimizer='adam',metrics=['accuracy'])"
        },
        {
            "cell_type": "code",
            "execution_count": 30,
            "metadata": {},
            "outputs": [],
            "source": "from tensorflow.keras.callbacks import EarlyStopping\nearly_stop=EarlyStopping(monitor='val_loss',patience=2)"
        },
        {
            "cell_type": "code",
            "execution_count": 33,
            "metadata": {},
            "outputs": [
                {
                    "name": "stdout",
                    "output_type": "stream",
                    "text": "Epoch 1/15\n1563/1563 [==============================] - 154s 98ms/step - loss: 1.5101 - accuracy: 0.4560 - val_loss: 1.2659 - val_accuracy: 0.5427\nEpoch 2/15\n1563/1563 [==============================] - 151s 97ms/step - loss: 1.1838 - accuracy: 0.5803 - val_loss: 1.1057 - val_accuracy: 0.6104\nEpoch 3/15\n1563/1563 [==============================] - 151s 97ms/step - loss: 1.0416 - accuracy: 0.6330 - val_loss: 1.0559 - val_accuracy: 0.6299\nEpoch 4/15\n1563/1563 [==============================] - 151s 96ms/step - loss: 0.9389 - accuracy: 0.6705 - val_loss: 1.0074 - val_accuracy: 0.6494\nEpoch 5/15\n1563/1563 [==============================] - 150s 96ms/step - loss: 0.8533 - accuracy: 0.7035 - val_loss: 1.0237 - val_accuracy: 0.6510\nEpoch 6/15\n1563/1563 [==============================] - 150s 96ms/step - loss: 0.7764 - accuracy: 0.7273 - val_loss: 0.9828 - val_accuracy: 0.6713\nEpoch 7/15\n1563/1563 [==============================] - 150s 96ms/step - loss: 0.7050 - accuracy: 0.7538 - val_loss: 1.0040 - val_accuracy: 0.6656\nEpoch 8/15\n1563/1563 [==============================] - 150s 96ms/step - loss: 0.6392 - accuracy: 0.7766 - val_loss: 1.0543 - val_accuracy: 0.6558\n"
                },
                {
                    "data": {
                        "text/plain": "<keras.callbacks.History at 0x7f371c032280>"
                    },
                    "execution_count": 33,
                    "metadata": {},
                    "output_type": "execute_result"
                }
            ],
            "source": "model.fit(X_train,y_cat_train,validation_data=(X_test,y_cat_test),epochs=15,callbacks=[early_stop])"
        },
        {
            "cell_type": "code",
            "execution_count": 34,
            "metadata": {},
            "outputs": [],
            "source": "predictions=(model.predict(X_test)>0.5).astype(\"int32\")"
        },
        {
            "cell_type": "code",
            "execution_count": 37,
            "metadata": {},
            "outputs": [],
            "source": "from sklearn.metrics import classification_report"
        },
        {
            "cell_type": "code",
            "execution_count": 38,
            "metadata": {},
            "outputs": [
                {
                    "name": "stdout",
                    "output_type": "stream",
                    "text": "              precision    recall  f1-score   support\n\n           0       0.79      0.62      0.69      1000\n           1       0.89      0.65      0.75      1000\n           2       0.66      0.48      0.55      1000\n           3       0.55      0.36      0.43      1000\n           4       0.63      0.61      0.62      1000\n           5       0.66      0.46      0.54      1000\n           6       0.69      0.78      0.73      1000\n           7       0.86      0.54      0.66      1000\n           8       0.75      0.78      0.77      1000\n           9       0.78      0.70      0.74      1000\n\n   micro avg       0.72      0.60      0.66     10000\n   macro avg       0.73      0.60      0.65     10000\nweighted avg       0.73      0.60      0.65     10000\n samples avg       0.60      0.60      0.60     10000\n\n"
                },
                {
                    "name": "stderr",
                    "output_type": "stream",
                    "text": "/opt/conda/envs/Python-3.9/lib/python3.9/site-packages/sklearn/metrics/_classification.py:1318: UndefinedMetricWarning: Precision and F-score are ill-defined and being set to 0.0 in samples with no predicted labels. Use `zero_division` parameter to control this behavior.\n  _warn_prf(average, modifier, msg_start, len(result))\n"
                }
            ],
            "source": "print(classification_report(y_cat_test,predictions))"
        },
        {
            "cell_type": "code",
            "execution_count": 59,
            "metadata": {},
            "outputs": [],
            "source": "my_image=X_test[21]"
        },
        {
            "cell_type": "code",
            "execution_count": 60,
            "metadata": {},
            "outputs": [
                {
                    "data": {
                        "text/plain": "<matplotlib.image.AxesImage at 0x7f3768032c70>"
                    },
                    "execution_count": 60,
                    "metadata": {},
                    "output_type": "execute_result"
                },
                {
                    "data": {
                        "image/png": "[encoded data removed]",
                        "text/plain": "<Figure size 432x288 with 1 Axes>"
                    },
                    "metadata": {
                        "needs_background": "light"
                    },
                    "output_type": "display_data"
                }
            ],
            "source": "\nplt.imshow(my_image)"
        },
        {
            "cell_type": "code",
            "execution_count": 61,
            "metadata": {},
            "outputs": [
                {
                    "data": {
                        "text/plain": "array([6], dtype=uint8)"
                    },
                    "execution_count": 61,
                    "metadata": {},
                    "output_type": "execute_result"
                }
            ],
            "source": "y_test[7]"
        },
        {
            "cell_type": "code",
            "execution_count": 62,
            "metadata": {},
            "outputs": [
                {
                    "data": {
                        "text/plain": "array([[0, 0, 1, 0, 0, 0, 0, 0, 0, 0]], dtype=int32)"
                    },
                    "execution_count": 62,
                    "metadata": {},
                    "output_type": "execute_result"
                }
            ],
            "source": "(model.predict(my_image.reshape(1,32,32,3))>0.5).astype(\"int32\")"
        },
        {
            "cell_type": "code",
            "execution_count": null,
            "metadata": {},
            "outputs": [],
            "source": ""
        }
    ],
    "metadata": {
        "kernelspec": {
            "display_name": "Python 3.9",
            "language": "python",
            "name": "python3"
        },
        "language_info": {
            "codemirror_mode": {
                "name": "ipython",
                "version": 3
            },
            "file_extension": ".py",
            "mimetype": "text/x-python",
            "name": "python",
            "nbconvert_exporter": "python",
            "pygments_lexer": "ipython3",
            "version": "3.9.7"
        }
    },
    "nbformat": 4,
    "nbformat_minor": 1
}